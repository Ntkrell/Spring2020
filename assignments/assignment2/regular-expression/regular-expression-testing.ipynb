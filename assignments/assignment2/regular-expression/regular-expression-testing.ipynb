{
 "cells": [
  {
   "cell_type": "markdown",
   "metadata": {},
   "source": [
    "# Regular Expression Testing\n",
    "\n",
    "This notebook shows how you can quickly test regular expressions on sample input file. I like to use an online tool to build a pattern, then use it with `grep`. \n",
    "\n",
    "Regular expresions are used to specify string searches. To get started, following references are helpful:\n",
    "\n",
    "* [Software Carpentry Lesson on finding things](http://swcarpentry.github.io/shell-novice/07-find/index.html)\n",
    "* [Unix Power Tools (UCSB library login required)](https://proquest-safaribooksonline-com.proxy.library.ucsb.edu:9443/book/operating-systems-and-server-administration/unix/0596003307/32dot-regular-expressions-pattern-matching/upt3_chp_32_sect_1_html)\n",
    "\n",
    "For example, [this `example-pattern` on Regexr.com](https://regexr.com/52vp3) shows you what portions of strings will be matched when using the pattern `([A-Z])\\w+`.\n",
    "\n",
    "## Download Sample Text\n",
    "First, download a sample text file to use as input: [The Importance of Being Earnest: A Trivial Comedy for Serious People by Oscar Wilde](https://www.gutenberg.org/ebooks/844). Find the `Plain Text UTF-8` link, download it using `wget` or `curl` to file name `earnest-book.txt`\n",
    "\n",
    "Since the text file is long, extract the first 100 lines and save to `earnest.txt` using `head`.\n",
    "\n",
    "## `grep` in Jupyter Notebook\n",
    "\n",
    "Let's apply the pattern `([A-Z])\\w+` to `earnest.txt`. (For the pattern from Regexr.com to work with `grep` directly, `-E` option needs to be specified)"
   ]
  },
  {
   "cell_type": "code",
   "execution_count": 16,
   "metadata": {},
   "outputs": [
    {
     "name": "stdout",
     "output_type": "stream",
     "text": [
      "﻿The Project Gutenberg eBook, The Importance of Being Earnest, by Oscar\n",
      "Wilde\n",
      "This eBook is for the use of anyone anywhere at no cost and with\n",
      "almost no restrictions whatsoever.  You may copy it, give it away or\n",
      "re-use it under the terms of the Project Gutenberg License included\n",
      "with this eBook or online at www.gutenberg.org\n",
      "Title: The Importance of Being Earnest\n",
      "       A Trivial Comedy for Serious People\n",
      "Author: Oscar Wilde\n",
      "Release Date: August 29, 2006  [eBook #844]\n",
      "Language: English\n",
      "Character set encoding: ISO-646-US (US-ASCII)\n",
      "***START OF THE PROJECT GUTENBERG EBOOK THE IMPORTANCE OF BEING EARNEST***\n",
      "Transcribed from the 1915 Methuen & Co. Ltd. edition by David Price,\n",
      "The Importance of Being Earnest\n",
      "A Trivial Comedy for Serious People\n",
      "THE PERSONS IN THE PLAY\n",
      "John Worthing, J.P.\n",
      "Algernon Moncrieff\n",
      "Rev. Canon Chasuble, D.D.\n",
      "Merriman, Butler\n",
      "Lane, Manservant\n",
      "Lady Bracknell\n",
      "Hon. Gwendolen Fairfax\n",
      "Cecily Cardew\n",
      "Miss Prism, Governess\n",
      "THE SCENES OF THE PLAY\n",
      "ACT I.  Algernon Moncrieff's Flat in Half-Moon Street, W.\n",
      "ACT II.  The Garden at the Manor House, Woolton.\n",
      "ACT III.  Drawing-Room at the Manor House, Woolton.\n",
      "TIME: The Present.\n",
      "LONDON: ST. JAMES'S THEATRE\n",
      "Lessee and Manager: Mr. George Alexander\n",
      "February 14th, 1895\n",
      "John Worthing, J.P.: Mr. George Alexander.\n",
      "Algernon Moncrieff: Mr. Allen Aynesworth.\n",
      "Rev. Canon Chasuble, D.D.: Mr. H. H. Vincent.\n",
      "Merriman: Mr. Frank Dyall.\n",
      "Lane: Mr. F. Kinsey Peile.\n",
      "Lady Bracknell: Miss Rose Leclercq.\n",
      "Hon. Gwendolen Fairfax: Miss Irene Vanbrugh.\n",
      "Cecily Cardew: Miss Evelyn Millard.\n",
      "Miss Prism: Mrs. George Canninge.\n",
      "FIRST ACT\n"
     ]
    }
   ],
   "source": [
    "!grep -E '([A-Z])\\w+' earnest.txt"
   ]
  },
  {
   "cell_type": "markdown",
   "metadata": {},
   "source": [
    "Notice that the output doesn't tell you what matched. For visual aid, using colors in terminal helps."
   ]
  },
  {
   "cell_type": "markdown",
   "metadata": {},
   "source": [
    "## `grep` in Terminal\n",
    "\n",
    "Terminal is an interactive way to use commands. Your terminal looks plain right now; however, colors can be turned on, which will help when using `grep` and other shell commands. I prepared [two files here](https://gist.github.com/syoh/e6d80a028f592adc56f32f8b5a3e0418): `.bashrc` and `.profile`.\n",
    "\n",
    "* Option 1: download the zip file, extract, and upload them to JupyterHub at `~/`\n",
    "* Option 2: find the Raw links, download them directly into `~/`\n",
    "\n",
    "If you have done it correctly, you should see colors in any new terminal session you start.\n",
    "![color-in-terminal](terminal-colors.png)\n",
    "\n",
    "Navigate to where `earnest.txt` is, and execute the following command:\n",
    "```bash\n",
    "grep -E '([A-Z])\\w+' earnest.txt\n",
    "```\n",
    "You will see something like the following. Can you make sense of why some words did not get matched?\n",
    "\n",
    "![cap-words](cap-words.png)"
   ]
  },
  {
   "cell_type": "markdown",
   "metadata": {},
   "source": [
    "## Options for `grep`\n",
    "\n",
    "`grep --help` will tell you all the options for it. Can you find the options for, try, and verify the following options?\n",
    "\n",
    "1. `-v, --invert-match        select non-matching lines`\n",
    "1. `-o, --only-matching       show only the part of a line matching PATTERN`\n",
    "1. `-c, --count               print only a count of selected lines per FILE`\n",
    "1. `-m, --max-count=NUM       stop after NUM selected lines`\n",
    "\n",
    "Can you combine options? e.g. `-o` and `-m`"
   ]
  }
 ],
 "metadata": {
  "kernelspec": {
   "display_name": "Python 3",
   "language": "python",
   "name": "python3"
  },
  "language_info": {
   "codemirror_mode": {
    "name": "ipython",
    "version": 3
   },
   "file_extension": ".py",
   "mimetype": "text/x-python",
   "name": "python",
   "nbconvert_exporter": "python",
   "pygments_lexer": "ipython3",
   "version": "3.7.6"
  }
 },
 "nbformat": 4,
 "nbformat_minor": 4
}
