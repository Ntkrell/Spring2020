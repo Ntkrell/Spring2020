{
 "cells": [
  {
   "cell_type": "markdown",
   "metadata": {
    "toc": true
   },
   "source": [
    "<h1>Table of Contents<span class=\"tocSkip\"></span></h1>\n",
    "<div class=\"toc\"><ul class=\"toc-item\"><li><span><a href=\"#Pandas-Documentation\" data-toc-modified-id=\"Pandas-Documentation-1\">Pandas Documentation</a></span><ul class=\"toc-item\"><li><span><a href=\"#Find-Documentation\" data-toc-modified-id=\"Find-Documentation-1.1\">Find Documentation</a></span></li><li><span><a href=\"#Getting-started\" data-toc-modified-id=\"Getting-started-1.2\">Getting started</a></span></li><li><span><a href=\"#API-reference\" data-toc-modified-id=\"API-reference-1.3\">API reference</a></span><ul class=\"toc-item\"><li><span><a href=\"#DataFrame\" data-toc-modified-id=\"DataFrame-1.3.1\"><code>DataFrame</code></a></span></li><li><span><a href=\"#DataFrame.values\" data-toc-modified-id=\"DataFrame.values-1.3.2\"><code>DataFrame.values</code></a></span></li><li><span><a href=\"#DataFrame.head()\" data-toc-modified-id=\"DataFrame.head()-1.3.3\"><code>DataFrame.head()</code></a></span></li></ul></li><li><span><a href=\"#Chaining-methods\" data-toc-modified-id=\"Chaining-methods-1.4\">Chaining methods</a></span></li><li><span><a href=\"#Reference\" data-toc-modified-id=\"Reference-1.5\">Reference</a></span></li></ul></li></ul></div>"
   ]
  },
  {
   "cell_type": "markdown",
   "metadata": {
    "slideshow": {
     "slide_type": "slide"
    }
   },
   "source": [
    "# Pandas Documentation"
   ]
  },
  {
   "cell_type": "markdown",
   "metadata": {
    "slideshow": {
     "slide_type": "slide"
    }
   },
   "source": [
    "## Find Documentation"
   ]
  },
  {
   "cell_type": "code",
   "execution_count": 1,
   "metadata": {
    "slideshow": {
     "slide_type": "-"
    }
   },
   "outputs": [
    {
     "data": {
      "text/plain": [
       "'0.25.3'"
      ]
     },
     "execution_count": 1,
     "metadata": {},
     "output_type": "execute_result"
    }
   ],
   "source": [
    "import pandas as pd\n",
    "pd.__version__"
   ]
  },
  {
   "cell_type": "markdown",
   "metadata": {
    "slideshow": {
     "slide_type": "-"
    }
   },
   "source": [
    "Under [Previous Versions](https://pandas.pydata.org), find appropriate [docs link](https://pandas.pydata.org/pandas-docs/version/0.25.3/)"
   ]
  },
  {
   "cell_type": "markdown",
   "metadata": {
    "slideshow": {
     "slide_type": "subslide"
    }
   },
   "source": [
    "## Getting started\n",
    "\n",
    "* [10 minutes to pandas](https://pandas.pydata.org/pandas-docs/version/0.25.3/getting_started/10min.html)\n",
    "* [Essential basic functionality](https://pandas.pydata.org/pandas-docs/version/0.25.3/getting_started/basics.html)\n",
    "    * [Indexing](https://pandas.pydata.org/pandas-docs/version/0.25.3/user_guide/indexing.html)\n",
    "    * [Reindexing and altering labels](https://pandas.pydata.org/pandas-docs/version/0.25.3/getting_started/basics.html#reindexing-and-altering-labels)\n",
    "* [Cookbook](https://pandas.pydata.org/pandas-docs/version/0.25.3/user_guide/cookbook.html#cookbook)"
   ]
  },
  {
   "cell_type": "markdown",
   "metadata": {
    "slideshow": {
     "slide_type": "subslide"
    }
   },
   "source": [
    "## API reference\n",
    "\n",
    "* How to read documentation ([YouTube link](https://www.youtube.com/watch?v=E7fDz2Gm0mI))\n",
    "* [Pandas API reference](https://pandas.pydata.org/pandas-docs/version/0.25.3/reference/index.html)\n",
    "\n",
    "<center>\n",
    "    \n",
    "| Documentation Entry | Object Type |\n",
    "|:---|:---|\n",
    "| `DataFrame`                 | DataFrame instance object |\n",
    "| `DataFrame.shape`           | DataFrame instance attribute |\n",
    "| `DataFrame.head(self[, n])` | DataFrame instance method |\n",
    "| `DataFrame.loc`?            | DataFrame instance [indexer](https://pandas.pydata.org/pandas-docs/version/0.14/indexing.html#basics)|\n",
    "    \n",
    "</center>"
   ]
  },
  {
   "cell_type": "markdown",
   "metadata": {
    "slideshow": {
     "slide_type": "slide"
    }
   },
   "source": [
    "### `DataFrame`\n",
    "\n",
    "API reference for [`DataFrame`](https://pandas.pydata.org/pandas-docs/version/0.25.3/reference/api/pandas.DataFrame.html#pandas.DataFrame) says\n",
    "```\n",
    "class pandas.DataFrame(data=None, index=None, columns=None, dtype=None, copy=False)\n",
    "```\n",
    "* `DataFrame` class constructor\n",
    "* Input: `(data=None, index=None, columns=None, dtype=None, copy=False)`\n",
    "* Output: `DataFrame` object instance: try `type(pd.DataFrame())`"
   ]
  },
  {
   "cell_type": "code",
   "execution_count": 2,
   "metadata": {
    "slideshow": {
     "slide_type": "fragment"
    }
   },
   "outputs": [
    {
     "data": {
      "text/html": [
       "<div>\n",
       "<style scoped>\n",
       "    .dataframe tbody tr th:only-of-type {\n",
       "        vertical-align: middle;\n",
       "    }\n",
       "\n",
       "    .dataframe tbody tr th {\n",
       "        vertical-align: top;\n",
       "    }\n",
       "\n",
       "    .dataframe thead th {\n",
       "        text-align: right;\n",
       "    }\n",
       "</style>\n",
       "<table border=\"1\" class=\"dataframe\">\n",
       "  <thead>\n",
       "    <tr style=\"text-align: right;\">\n",
       "      <th></th>\n",
       "      <th>col1</th>\n",
       "      <th>col2</th>\n",
       "    </tr>\n",
       "  </thead>\n",
       "  <tbody>\n",
       "    <tr>\n",
       "      <th>0</th>\n",
       "      <td>1</td>\n",
       "      <td>3</td>\n",
       "    </tr>\n",
       "    <tr>\n",
       "      <th>1</th>\n",
       "      <td>2</td>\n",
       "      <td>4</td>\n",
       "    </tr>\n",
       "  </tbody>\n",
       "</table>\n",
       "</div>"
      ],
      "text/plain": [
       "   col1  col2\n",
       "0     1     3\n",
       "1     2     4"
      ]
     },
     "execution_count": 2,
     "metadata": {},
     "output_type": "execute_result"
    }
   ],
   "source": [
    "# obj = pd.DataFrame() ## works according to documentation\n",
    "d = {'col1': [1, 2], 'col2': [3, 4]}\n",
    "obj = pd.DataFrame(data=d)\n",
    "obj"
   ]
  },
  {
   "cell_type": "code",
   "execution_count": 3,
   "metadata": {
    "slideshow": {
     "slide_type": "fragment"
    }
   },
   "outputs": [
    {
     "data": {
      "text/plain": [
       "pandas.core.frame.DataFrame"
      ]
     },
     "execution_count": 3,
     "metadata": {},
     "output_type": "execute_result"
    }
   ],
   "source": [
    "type(obj)"
   ]
  },
  {
   "cell_type": "markdown",
   "metadata": {
    "slideshow": {
     "slide_type": "subslide"
    }
   },
   "source": [
    "### `DataFrame.values`\n",
    "\n",
    "API reference for `DataFrame.values` says\n",
    "```\n",
    "DataFrame.values\n",
    "```\n",
    "* `DataFrame` instance attribute: e.g. `obj.values`\n",
    "* Input: None since attribute is not a function\n",
    "* Outputs: `numpy.ndarray`: try `type(obj.values)`"
   ]
  },
  {
   "cell_type": "code",
   "execution_count": 4,
   "metadata": {
    "slideshow": {
     "slide_type": "fragment"
    }
   },
   "outputs": [
    {
     "data": {
      "text/plain": [
       "array([[1, 3],\n",
       "       [2, 4]])"
      ]
     },
     "execution_count": 4,
     "metadata": {},
     "output_type": "execute_result"
    }
   ],
   "source": [
    "# type(obj.values) ## what is this attribute's type?\n",
    "obj.values"
   ]
  },
  {
   "cell_type": "markdown",
   "metadata": {
    "slideshow": {
     "slide_type": "subslide"
    }
   },
   "source": [
    "### `DataFrame.head()`\n",
    "\n",
    "API reference for `DataFrame.head` says\n",
    "```\n",
    "DataFrame.head(self, n=5)\n",
    "```\n",
    "* `DataFrame` method (a function): e.g. `obj.head()`\n",
    "* Input: `(self, n=5)`\n",
    "* Output:  \n",
    "    ```\n",
    "    obj_head : same type as caller\n",
    "    The first n rows of the caller object.\n",
    "    ```"
   ]
  },
  {
   "cell_type": "code",
   "execution_count": 5,
   "metadata": {
    "slideshow": {
     "slide_type": "fragment"
    }
   },
   "outputs": [
    {
     "data": {
      "text/html": [
       "<div>\n",
       "<style scoped>\n",
       "    .dataframe tbody tr th:only-of-type {\n",
       "        vertical-align: middle;\n",
       "    }\n",
       "\n",
       "    .dataframe tbody tr th {\n",
       "        vertical-align: top;\n",
       "    }\n",
       "\n",
       "    .dataframe thead th {\n",
       "        text-align: right;\n",
       "    }\n",
       "</style>\n",
       "<table border=\"1\" class=\"dataframe\">\n",
       "  <thead>\n",
       "    <tr style=\"text-align: right;\">\n",
       "      <th></th>\n",
       "      <th>col1</th>\n",
       "      <th>col2</th>\n",
       "    </tr>\n",
       "  </thead>\n",
       "  <tbody>\n",
       "    <tr>\n",
       "      <th>0</th>\n",
       "      <td>1</td>\n",
       "      <td>3</td>\n",
       "    </tr>\n",
       "  </tbody>\n",
       "</table>\n",
       "</div>"
      ],
      "text/plain": [
       "   col1  col2\n",
       "0     1     3"
      ]
     },
     "execution_count": 5,
     "metadata": {},
     "output_type": "execute_result"
    }
   ],
   "source": [
    "obj.head(1)"
   ]
  },
  {
   "cell_type": "markdown",
   "metadata": {
    "slideshow": {
     "slide_type": "slide"
    }
   },
   "source": [
    "## Chaining methods\n",
    "\n",
    "Matching inputs and outputs, multiple methods can be chained together"
   ]
  },
  {
   "cell_type": "code",
   "execution_count": 6,
   "metadata": {
    "slideshow": {
     "slide_type": "-"
    }
   },
   "outputs": [
    {
     "data": {
      "text/plain": [
       "0"
      ]
     },
     "execution_count": 6,
     "metadata": {},
     "output_type": "execute_result"
    }
   ],
   "source": [
    "pd.DataFrame({'d':[ 3, 2, 4, 50, 9, 12 ]})\\\n",
    "    .tail(3)\\\n",
    "    .values\\\n",
    "    .argmax()"
   ]
  },
  {
   "cell_type": "code",
   "execution_count": 7,
   "metadata": {
    "slideshow": {
     "slide_type": "subslide"
    }
   },
   "outputs": [
    {
     "data": {
      "text/plain": [
       "0"
      ]
     },
     "execution_count": 7,
     "metadata": {},
     "output_type": "execute_result"
    }
   ],
   "source": [
    "pd.DataFrame({'d':[ 3, 2, 4, 50, 9, 12 ]})\\\n",
    "    .tail(3)\\\n",
    "    .values\\\n",
    "    .argmax()"
   ]
  },
  {
   "cell_type": "markdown",
   "metadata": {
    "slideshow": {
     "slide_type": "-"
    }
   },
   "source": [
    "<center>\n",
    "    \n",
    "| Operation | Code | Input | Returns |\n",
    "|:---|:---|:---|:---|\n",
    "|Creates a DataFrame|`pd.DataFrame({'d':[ 3, 2, 4, 50, 9, 12 ]})\\`|dictionary| `DataFrame`|\n",
    "|Get last three elements|`    .tail(3)\\`                              |`DataFrame`| `DataFrame` |\n",
    "|Get data values in an array|`    .values\\`                               |`DataFrame`| `numpy.ndarray` |\n",
    "|Get [index of maximum element](https://docs.scipy.org/doc/numpy/reference/generated/numpy.ndarray.argmax.html?highlight=argmax#numpy.ndarray.argmax)|`    .argmax()`                              |`numpy.ndarray`| ndarray of ints |\n",
    "    \n",
    "</center>"
   ]
  },
  {
   "cell_type": "markdown",
   "metadata": {
    "slideshow": {
     "slide_type": "slide"
    }
   },
   "source": [
    "## Reference\n",
    "[![Pandas for Data Analysis](https://covers.oreillystatic.com/images/0636920023784/lrg.jpg)](https://ucsb-primo.hosted.exlibrisgroup.com/permalink/f/1egv95m/01UCSB_ALMA51274695620003776)\n",
    "[Pandas for Data Analysis](https://covers.oreillystatic.com/images/0636920023784/lrg.jpg)"
   ]
  }
 ],
 "metadata": {
  "celltoolbar": "Slideshow",
  "kernelspec": {
   "display_name": "Python 3",
   "language": "python",
   "name": "python3"
  },
  "language_info": {
   "codemirror_mode": {
    "name": "ipython",
    "version": 3
   },
   "file_extension": ".py",
   "mimetype": "text/x-python",
   "name": "python",
   "nbconvert_exporter": "python",
   "pygments_lexer": "ipython3",
   "version": "3.7.6"
  },
  "toc": {
   "base_numbering": 1,
   "nav_menu": {},
   "number_sections": false,
   "sideBar": true,
   "skip_h1_title": false,
   "title_cell": "Table of Contents",
   "title_sidebar": "Contents",
   "toc_cell": true,
   "toc_position": {},
   "toc_section_display": true,
   "toc_window_display": false
  }
 },
 "nbformat": 4,
 "nbformat_minor": 4
}
